{
  "nbformat": 4,
  "nbformat_minor": 0,
  "metadata": {
    "colab": {
      "provenance": []
    },
    "kernelspec": {
      "name": "python3",
      "display_name": "Python 3"
    },
    "language_info": {
      "name": "python"
    }
  },
  "cells": [
    {
      "cell_type": "markdown",
      "source": [
        "#Assignment 1 ( Python Basics )\n",
        "\n",
        "Que1) What is Python, and why is it popular ?\n",
        "- It is aformal language for creating instructions for a computer to follow.\n",
        "- Python is a programming language is easy to understand and write ,making it a popular choice among developers and programmers.\n",
        "- It is compatible with various programming paradigms,such as procedural,object-oriented, and functional programming.\n",
        "\n",
        "-- Why it is popular\n",
        "- Python has a large and active community of developers an extensive standard library and third party package for various domains .\n",
        "- Widely used in the industry.\n",
        "- it is widely used in data industry like Data science, Data Analytics ,applied Data science\n",
        "- A lot of Libraries\n",
        "\n"
      ],
      "metadata": {
        "id": "XUKHXDVxnkWF"
      }
    },
    {
      "cell_type": "markdown",
      "source": [
        "Que 2) What is an interpreter in Python ?\n",
        "- An interpreter is a program that runs/excute code line by line, translating it into machine code during excution."
      ],
      "metadata": {
        "id": "FolwTj6CqpUU"
      }
    },
    {
      "cell_type": "markdown",
      "source": [
        "Que 3) What are pre-defined keywords in Python?\n",
        "- keywords are reserved words in python that have special meaning and cannot be used as identifiers (variable names,function names, etc)\n",
        "- Example of keywords include if,else ,while,for,def,class,import,try,exect,return,True,False ,none ,etc,\n",
        "- Keywords are case-senstive and connot be redefined or overridden within a python program"
      ],
      "metadata": {
        "id": "k7B7lQaXrgMe"
      }
    },
    {
      "cell_type": "markdown",
      "source": [
        "Que 4) Can keywords be used as variable names?\n",
        "- No, keywords cannot be used as varible names"
      ],
      "metadata": {
        "id": "1bfyrMoLsUFn"
      }
    },
    {
      "cell_type": "markdown",
      "source": [
        "Que 5)What is mutability in Python?\n",
        "- Mutability is weather an object can be modified once it is created .\n",
        "- mutable objects , such as lists and dictionaries can be modified after creation."
      ],
      "metadata": {
        "id": "T4mqlePqsl6O"
      }
    },
    {
      "cell_type": "markdown",
      "source": [
        "Que 6) Why are lists mutable, but tuples are immutable?\n",
        "- Lista are mitable because they are designed to store a collection of items that can change elements can be addes ,removed , or modified.\n",
        "- Tuples are immutgable to ensure data integrity once created ,their contents cannot be altered , ehich makes them faster and safer to use as keys in dictionaries or for fixed data ."
      ],
      "metadata": {
        "id": "Mu-ej7cCtbK9"
      }
    },
    {
      "cell_type": "markdown",
      "source": [
        "que 7) What is the difference between “==” and “is” operators in Python ?\n",
        "- The \"==\" operator compares the values of two objects to see if they are equal , whereas the is operator checks if two variables point to the same object in memory."
      ],
      "metadata": {
        "id": "OQvlgHxX8U_h"
      }
    },
    {
      "cell_type": "markdown",
      "source": [
        "Que 8 )What are logical operators in Python ?\n",
        "- The logical operator are used to combine or modify conditional statements.\n",
        "- there are 3 main logical operator:\n",
        "- and:  returns True if both operands are True , otherwise it returns False.\n",
        "- or: Retruns Tue if at least one od the operands is True, otherwise it returns False.\n",
        "-not: Returns True if the operand is False ,and False if the operand is True. It is used to reverse the logical state os its operand."
      ],
      "metadata": {
        "id": "pk11AhbO84Gp"
      }
    },
    {
      "cell_type": "markdown",
      "source": [
        "Que 9) What is type casting in Python?\n",
        "- Type casting in python is the process of converting one data type into another , such as from int to float ,str to int , etc..\n",
        "- Tyep casting also reffered  to as type conversion is the process od changing one data type to another in python\n",
        "- It is often necessary for performing arithmetic operation , data manipulation and input/output operations in python programs ."
      ],
      "metadata": {
        "id": "CLLP6tZb-Ool"
      }
    },
    {
      "cell_type": "markdown",
      "source": [
        "Que 10) What is the difference between implicit and explicit type casting ?\n",
        "- Implicit Tyep casting is odne automatically by python when converting a smaller data type to larger one (e.g.int to float).\n",
        "- Explicit Type Casting is done manually by the programmer using functions like int(),float(),str(),etc.."
      ],
      "metadata": {
        "id": "77q5tMa7_KXp"
      }
    },
    {
      "cell_type": "markdown",
      "source": [
        "Que 11)  What is the purpose of conditional statements in Python ?\n",
        "- Conditional in python are used to execute code based on the evaluation of one or more conitions.\n",
        "-Python supports conditional statements such as if,elif(else if) and else to control the flow of execution .\n",
        "- Conditional can be nested to handle multiple conditions and control different branchers of excutions based on the outcome of logical expressions.\n"
      ],
      "metadata": {
        "id": "Wpy04aip_ykd"
      }
    },
    {
      "cell_type": "markdown",
      "source": [
        "Que 12) How does the elif statement work ?\n",
        "-  The elif(else if) statement in python is used to check multiple conditions after an if condition. It runs the block of code for the first truw consition and skips the rest."
      ],
      "metadata": {
        "id": "XcmAUDKxAeDW"
      }
    },
    {
      "cell_type": "markdown",
      "source": [
        "Que 13 ) What is the difference between for and while loops ?\n",
        "- A for loop is used when the number of iterations is known of finite,usually for iterating over a sequence like alist or range.\n",
        "- A while loop is used when the number of iterations is not known inadvance and depends on a condition being true ."
      ],
      "metadata": {
        "id": "eP-3K0eZA7du"
      }
    },
    {
      "cell_type": "markdown",
      "source": [
        "Que 14) Describe a scenario where a while loop is more suitable than a for loop.\n",
        "-  A while loop is more suitable whn you need to repeat a block of code as long as a certain condition remains True , and you don't know beforehand how many times the loop will need to execute .\n",
        "- For ex. consider that you are asking a user to input until they type in the word\"quit\". You have no idea how many tries it will take them . A while loop with the condition wheather the input tries it will take them . A while loop with the condition wheater the input does not equal \"quit\" would be a more natural and versatile choice than a for loop thar has a limited number of runs."
      ],
      "metadata": {
        "id": "3iI2ci7WBeTn"
      }
    },
    {
      "cell_type": "markdown",
      "source": [
        "#Practical Questions"
      ],
      "metadata": {
        "id": "YxndSc2sODIY"
      }
    },
    {
      "cell_type": "markdown",
      "source": [
        "Que 1) Write a Python program to print \"Hello, World!\""
      ],
      "metadata": {
        "id": "ixSuPDpfOH79"
      }
    },
    {
      "cell_type": "code",
      "source": [
        "print(\"Hello ,World!\")"
      ],
      "metadata": {
        "colab": {
          "base_uri": "https://localhost:8080/"
        },
        "id": "QGXKGRZNOQGG",
        "outputId": "f354e346-3c69-4fe0-d4ea-dafc0702ef9c"
      },
      "execution_count": null,
      "outputs": [
        {
          "output_type": "stream",
          "name": "stdout",
          "text": [
            "Hello ,World!\n"
          ]
        }
      ]
    },
    {
      "cell_type": "markdown",
      "source": [
        "Que 2)  Write a Python program that displays your name and age."
      ],
      "metadata": {
        "id": "v1u2DhZXOgor"
      }
    },
    {
      "cell_type": "code",
      "source": [
        "name=input(\"Please enter your name\")\n",
        "age=input(\"Please enter your age\")"
      ],
      "metadata": {
        "colab": {
          "base_uri": "https://localhost:8080/"
        },
        "id": "winxk1dwOlbl",
        "outputId": "b018dc87-e9c8-4304-ec64-417af5732b20"
      },
      "execution_count": null,
      "outputs": [
        {
          "name": "stdout",
          "output_type": "stream",
          "text": [
            "Please enter your name Bhargav Ghodichor\n",
            "Please enter your age21\n"
          ]
        }
      ]
    },
    {
      "cell_type": "code",
      "source": [
        "#Other way to print a name and age\n",
        "name=\"Bhargav Ghodichor\"\n",
        "age=21\n",
        "\n",
        "print(\"my name is\",name)\n",
        "print(\"my age is\",age)"
      ],
      "metadata": {
        "colab": {
          "base_uri": "https://localhost:8080/"
        },
        "id": "dci9VJnIPoR-",
        "outputId": "90018662-f6da-426c-bec7-861bbbdf3461"
      },
      "execution_count": null,
      "outputs": [
        {
          "output_type": "stream",
          "name": "stdout",
          "text": [
            "my name is Bhargav Ghodichor\n",
            "my age is 21\n"
          ]
        }
      ]
    },
    {
      "cell_type": "markdown",
      "source": [
        "Que 3) Write code to print all the pre-defined keywords in Python using the keyword library."
      ],
      "metadata": {
        "id": "URJNAAxWPuwb"
      }
    },
    {
      "cell_type": "code",
      "source": [
        "help('keywords')"
      ],
      "metadata": {
        "colab": {
          "base_uri": "https://localhost:8080/"
        },
        "id": "FqMAjsu3Pyis",
        "outputId": "52059a2f-f266-4a6a-ebea-8a71494d0a37"
      },
      "execution_count": 9,
      "outputs": [
        {
          "output_type": "stream",
          "name": "stdout",
          "text": [
            "\n",
            "Here is a list of the Python keywords.  Enter any keyword to get more help.\n",
            "\n",
            "False               class               from                or\n",
            "None                continue            global              pass\n",
            "True                def                 if                  raise\n",
            "and                 del                 import              return\n",
            "as                  elif                in                  try\n",
            "assert              else                is                  while\n",
            "async               except              lambda              with\n",
            "await               finally             nonlocal            yield\n",
            "break               for                 not                 \n",
            "\n"
          ]
        }
      ]
    },
    {
      "cell_type": "markdown",
      "source": [
        "Que 4) Write a program that checks if a given word is a Python keyword."
      ],
      "metadata": {
        "id": "bsyrFswEQe8W"
      }
    },
    {
      "cell_type": "code",
      "source": [
        "import keyword\n",
        "word=input(\"Enter a word to check if it is python keywords:\")\n",
        "if keyword.iskeyword(word):\n",
        "  print(f\"'{word}'is a python keyword.\")\n",
        "else:\n",
        "  print(f\"'{word}'is a not a python keyword.\")\n"
      ],
      "metadata": {
        "colab": {
          "base_uri": "https://localhost:8080/"
        },
        "id": "1tMAYevgRIcw",
        "outputId": "8d6065a7-bc06-41d0-c921-730ba9b35b23"
      },
      "execution_count": 12,
      "outputs": [
        {
          "output_type": "stream",
          "name": "stdout",
          "text": [
            "Enter a word to check if it is python keywords:else\n",
            "'else'is a python keyword.\n"
          ]
        }
      ]
    },
    {
      "cell_type": "markdown",
      "source": [
        "Que 5) Create a list and tuple in Python, and demonstrate how attempting to change an element works differently\n",
        "for each."
      ],
      "metadata": {
        "id": "6_qzAmfYSHGU"
      }
    },
    {
      "cell_type": "code",
      "source": [
        "fruit_list=['apple','banana','cherry']\n",
        "print(\"Original list:\",fruit_list)\n",
        "\n",
        "fruit_list[1]='mango'\n",
        "print(\"Modified list:\",fruit_list)\n",
        "\n",
        "fruits_tuple=('apple','banana','cherry')\n",
        "print(\"Original tuple:\",fruits_tuple)\n",
        "\n",
        "print(\"trying to modify the tuple...\")\n",
        "fruits_tuple[1]='maango'  # tuple cannot be modify\n",
        "\n"
      ],
      "metadata": {
        "colab": {
          "base_uri": "https://localhost:8080/",
          "height": 263
        },
        "id": "oXGw1ctQSM0i",
        "outputId": "52cd0cf7-ee13-444b-b71a-b7d865ee8bc6"
      },
      "execution_count": 18,
      "outputs": [
        {
          "output_type": "stream",
          "name": "stdout",
          "text": [
            "Original list: ['apple', 'banana', 'cherry']\n",
            "Modified list: ['apple', 'mango', 'cherry']\n",
            "Original tuple: ('apple', 'banana', 'cherry')\n",
            "trying to modify the tuple...\n"
          ]
        },
        {
          "output_type": "error",
          "ename": "TypeError",
          "evalue": "'tuple' object does not support item assignment",
          "traceback": [
            "\u001b[0;31m---------------------------------------------------------------------------\u001b[0m",
            "\u001b[0;31mTypeError\u001b[0m                                 Traceback (most recent call last)",
            "\u001b[0;32m<ipython-input-18-89070011f184>\u001b[0m in \u001b[0;36m<cell line: 0>\u001b[0;34m()\u001b[0m\n\u001b[1;32m      9\u001b[0m \u001b[0;34m\u001b[0m\u001b[0m\n\u001b[1;32m     10\u001b[0m \u001b[0mprint\u001b[0m\u001b[0;34m(\u001b[0m\u001b[0;34m\"trying to modify the tuple...\"\u001b[0m\u001b[0;34m)\u001b[0m\u001b[0;34m\u001b[0m\u001b[0;34m\u001b[0m\u001b[0m\n\u001b[0;32m---> 11\u001b[0;31m \u001b[0mfruits_tuple\u001b[0m\u001b[0;34m[\u001b[0m\u001b[0;36m1\u001b[0m\u001b[0;34m]\u001b[0m\u001b[0;34m=\u001b[0m\u001b[0;34m'maango'\u001b[0m  \u001b[0;31m# tuple cannot be modify\u001b[0m\u001b[0;34m\u001b[0m\u001b[0;34m\u001b[0m\u001b[0m\n\u001b[0m\u001b[1;32m     12\u001b[0m \u001b[0;34m\u001b[0m\u001b[0m\n",
            "\u001b[0;31mTypeError\u001b[0m: 'tuple' object does not support item assignment"
          ]
        }
      ]
    },
    {
      "cell_type": "markdown",
      "source": [
        "Que 6) Write a function to demonstrate the behavior of mutable and immutable arguments."
      ],
      "metadata": {
        "id": "Y9sK8exjUJgo"
      }
    },
    {
      "cell_type": "code",
      "source": [
        "def modify_values(X,my_list):\n",
        "  x=10\n",
        "  my_list.append(4)\n",
        "\n",
        "num=5\n",
        "my_list=[1,2,3]\n",
        "print(\"Before fucntion call:\")\n",
        "print(\"num=\",num)\n",
        "print(\"my_list=\",my_list)\n",
        "\n",
        "modify_values(num,my_list)\n",
        "\n",
        "print(\"After function call:\")\n",
        "print(\"num=\",num)\n",
        "print(\"my_list=\",my_list)"
      ],
      "metadata": {
        "colab": {
          "base_uri": "https://localhost:8080/"
        },
        "id": "Pz7-2a7gUPIU",
        "outputId": "c0642a1f-f73e-4ec9-dddc-463f47a68782"
      },
      "execution_count": 21,
      "outputs": [
        {
          "output_type": "stream",
          "name": "stdout",
          "text": [
            "Before fucntion call:\n",
            "num= 5\n",
            "my_list= [1, 2, 3]\n",
            "After function call:\n",
            "num= 5\n",
            "my_list= [1, 2, 3, 4]\n"
          ]
        }
      ]
    },
    {
      "cell_type": "markdown",
      "source": [
        "Que 7)  Write a program that performs basic arithmetic operations on two user-input numbers.\n",
        "\n"
      ],
      "metadata": {
        "id": "-PwkWGyBVaRX"
      }
    },
    {
      "cell_type": "code",
      "source": [
        "num1=float(input(\"Enter the 1st number:\"))\n",
        "num2=float(input(\"Enter the 2nd number:\"))\n",
        "\n",
        "print(\"Addition:\",num1+num2)\n",
        "print(\"Subtraction:\",num1-num2)\n",
        "print(\"Multiplication:\",num1*num2)\n",
        "print(\"Divison\",num1/num2)"
      ],
      "metadata": {
        "colab": {
          "base_uri": "https://localhost:8080/"
        },
        "id": "t2e1QpSrVcra",
        "outputId": "afe7f18e-da67-4fbe-94d5-57b37fed46f5"
      },
      "execution_count": 23,
      "outputs": [
        {
          "output_type": "stream",
          "name": "stdout",
          "text": [
            "Enter the 1st number:5.2\n",
            "Enter the 2nd number:6.3\n",
            "Addition: 11.5\n",
            "Subtraction: -1.0999999999999996\n",
            "Multiplication: 32.76\n",
            "Divison 0.8253968253968255\n"
          ]
        }
      ]
    },
    {
      "cell_type": "markdown",
      "source": [
        "Que 8) Write a program to demonstrate the use of logical operators."
      ],
      "metadata": {
        "id": "oVmziIyuWULH"
      }
    },
    {
      "cell_type": "code",
      "source": [
        "a= True\n",
        "b=False\n",
        "\n",
        "print(\"a and b =\",a and b)\n",
        "print(\"a or b\",a or b)\n",
        "print(\"not a =\",not a)\n"
      ],
      "metadata": {
        "colab": {
          "base_uri": "https://localhost:8080/"
        },
        "id": "jBsFys5uWXRa",
        "outputId": "53ae0de7-78c9-4b54-ebe7-d62bb011a3cf"
      },
      "execution_count": 24,
      "outputs": [
        {
          "output_type": "stream",
          "name": "stdout",
          "text": [
            "a and b = False\n",
            "a or b True\n",
            "not a = False\n"
          ]
        }
      ]
    },
    {
      "cell_type": "markdown",
      "source": [
        "Que 9)  Write a Python program to convert user input from string to integer, float, and boolean types."
      ],
      "metadata": {
        "id": "rWzPz_NMWzwe"
      }
    },
    {
      "cell_type": "code",
      "source": [
        "\n",
        "user_input = input(\"Enter a value: \")\n",
        "\n",
        "# Convert to integer\n",
        "if user_input.isdigit():\n",
        "    integer_value = int(user_input)\n",
        "else:\n",
        "    integer_value = \"Not an integer\"\n",
        "\n",
        "# Convert to float\n",
        "if user_input.replace('.', '', 1).isdigit() and user_input.count('.') <= 1:\n",
        "    float_value = float(user_input)\n",
        "else:\n",
        "    float_value = \"Not a float\"\n",
        "\n",
        "# Convert to boolean\n",
        "boolean_value = user_input.lower() == \"true\"\n",
        "\n",
        "# Display the results\n",
        "print(\"Converted to integer:\", integer_value)\n",
        "print(\"Converted to float:\", float_value)\n",
        "print(\"Converted to boolean:\", boolean_value)\n"
      ],
      "metadata": {
        "colab": {
          "base_uri": "https://localhost:8080/"
        },
        "id": "avPiZXt-W3dM",
        "outputId": "d6c5ea7a-275e-40fe-d72b-7370e495d200"
      },
      "execution_count": 27,
      "outputs": [
        {
          "output_type": "stream",
          "name": "stdout",
          "text": [
            "Enter a value: 58\n",
            "Converted to integer: 58\n",
            "Converted to float: 58.0\n",
            "Converted to boolean: False\n"
          ]
        }
      ]
    },
    {
      "cell_type": "markdown",
      "source": [
        "Que 10)  Write code to demonstrate type casting with list elements."
      ],
      "metadata": {
        "id": "G1zXZF5OZuyr"
      }
    },
    {
      "cell_type": "code",
      "source": [
        "# Basic list with string elements\n",
        "my_list = [\"1\", \"2.5\", \"True\", \"10\"]\n",
        "\n",
        "# Change all elements to integers\n",
        "int_list = [int(x) if x.isdigit() else x for x in my_list]\n",
        "print(\"List with integers:\", int_list)\n",
        "\n",
        "# Change all elements to floats\n",
        "float_list = [float(x) if x.replace('.', '', 1).isdigit() else x for x in my_list]\n",
        "print(\"List with floats:\", float_list)\n",
        "\n",
        "# Change all elements to booleans\n",
        "bool_list = [x.lower() == \"true\" for x in my_list]\n",
        "print(\"List with booleans:\", bool_list)\n"
      ],
      "metadata": {
        "colab": {
          "base_uri": "https://localhost:8080/"
        },
        "id": "sRXUI_UjZy7u",
        "outputId": "3c88145c-0b59-4b91-9590-b7d351906288"
      },
      "execution_count": 28,
      "outputs": [
        {
          "output_type": "stream",
          "name": "stdout",
          "text": [
            "List with integers: [1, '2.5', 'True', 10]\n",
            "List with floats: [1.0, 2.5, 'True', 10.0]\n",
            "List with booleans: [False, False, True, False]\n"
          ]
        }
      ]
    },
    {
      "cell_type": "markdown",
      "source": [
        "Que 11) Write a program that checks if a number is positive, negative, or zero."
      ],
      "metadata": {
        "id": "_Xk1aQdTaLUB"
      }
    },
    {
      "cell_type": "code",
      "source": [
        "number=float(input(\"Enter a number:\"))\n",
        "\n",
        "if number >0:\n",
        "  print(\"The numbner is Positive..\")\n",
        "elif number <0:\n",
        "  print(\"The number is Negavtive..\")\n",
        "else:\n",
        "  print(\"The number is zero..\")"
      ],
      "metadata": {
        "colab": {
          "base_uri": "https://localhost:8080/"
        },
        "id": "hPem9VZRaa_a",
        "outputId": "9204a7b0-29b3-48a2-d5fd-04190d91ee4e"
      },
      "execution_count": 29,
      "outputs": [
        {
          "output_type": "stream",
          "name": "stdout",
          "text": [
            "Enter a number:8.5\n",
            "The numbner is Positive..\n"
          ]
        }
      ]
    },
    {
      "cell_type": "markdown",
      "source": [
        "Que 12 ) Write a for loop to print numbers from 1 to 10."
      ],
      "metadata": {
        "id": "sLygFyqVa_59"
      }
    },
    {
      "cell_type": "code",
      "source": [
        "for i in range(1,11):\n",
        "  print(i)"
      ],
      "metadata": {
        "colab": {
          "base_uri": "https://localhost:8080/"
        },
        "id": "3qrngyfdbBmK",
        "outputId": "5d9d022e-cd57-4395-a8e9-9e8fda86cc30"
      },
      "execution_count": 31,
      "outputs": [
        {
          "output_type": "stream",
          "name": "stdout",
          "text": [
            "1\n",
            "2\n",
            "3\n",
            "4\n",
            "5\n",
            "6\n",
            "7\n",
            "8\n",
            "9\n",
            "10\n"
          ]
        }
      ]
    },
    {
      "cell_type": "markdown",
      "source": [
        "Que 13)  Write a Python program to find the sum of all even numbers between 1 and 50."
      ],
      "metadata": {
        "id": "oY-uE6wZbK3a"
      }
    },
    {
      "cell_type": "code",
      "source": [
        "even_number=0\n",
        "\n",
        "for i in range (1,51):\n",
        "  if i%2==0:\n",
        "    even_number+=i\n",
        "print(\"the sum of all even number between 1 and 50 is :\",even_number)"
      ],
      "metadata": {
        "colab": {
          "base_uri": "https://localhost:8080/"
        },
        "id": "LqcBZz_ibQoL",
        "outputId": "01321643-9419-4093-c501-1b2d8f270825"
      },
      "execution_count": 32,
      "outputs": [
        {
          "output_type": "stream",
          "name": "stdout",
          "text": [
            "the sum of all even number between 1 and 50 is : 650\n"
          ]
        }
      ]
    },
    {
      "cell_type": "markdown",
      "source": [
        "Que 14) Write a program to reverse a string using a while loop."
      ],
      "metadata": {
        "id": "l5FBrKujb0NI"
      }
    },
    {
      "cell_type": "code",
      "source": [
        "text=input(\"Enter a string:\")\n",
        "\n",
        "reversed_text=\"\"\n",
        "i=0\n",
        "while i<len(text):\n",
        "  reversed_text=te.xt[i]+reversed_text\n",
        "  i+=1\n",
        "print(\"Reversed string:\",reversed_text)"
      ],
      "metadata": {
        "colab": {
          "base_uri": "https://localhost:8080/"
        },
        "id": "TF6P-sdMb45i",
        "outputId": "11954632-1a71-4a35-afa3-502b9fcdb0cd"
      },
      "execution_count": 34,
      "outputs": [
        {
          "output_type": "stream",
          "name": "stdout",
          "text": [
            "Enter a string:hello\n",
            "Reversed string: olleh\n"
          ]
        }
      ]
    },
    {
      "cell_type": "markdown",
      "source": [
        "Que 15 ) Write a Python program to calculate the factorial of a number provided by the user using a while loop."
      ],
      "metadata": {
        "id": "194wJ4swcnN4"
      }
    },
    {
      "cell_type": "code",
      "source": [
        "num=int(input(\"Enter a number:\"))\n",
        "fact=1\n",
        "i=1\n",
        "while i<=num:\n",
        "  fact=fact*i\n",
        "  i=i+1\n",
        "print(\"Factorial of\",num,\"is:\",fact)"
      ],
      "metadata": {
        "colab": {
          "base_uri": "https://localhost:8080/"
        },
        "id": "ESeiC18EcsjS",
        "outputId": "9df63e68-651a-4cd5-f128-bb9fe37893ae"
      },
      "execution_count": 36,
      "outputs": [
        {
          "output_type": "stream",
          "name": "stdout",
          "text": [
            "Enter a number:5\n",
            "Factorial of 5 is: 120\n"
          ]
        }
      ]
    }
  ]
}